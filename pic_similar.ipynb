{
  "nbformat": 4,
  "nbformat_minor": 0,
  "metadata": {
    "colab": {
      "provenance": [],
      "gpuType": "T4"
    },
    "kernelspec": {
      "name": "python3",
      "display_name": "Python 3"
    },
    "language_info": {
      "name": "python"
    },
    "accelerator": "GPU"
  },
  "cells": [
    {
      "cell_type": "code",
      "source": [
        "!pip install img2vec_pytorch\n",
        "!pip install Pillow\n",
        "!pip install scikit-learn"
      ],
      "metadata": {
        "id": "FZvuOmHWPbn4"
      },
      "execution_count": null,
      "outputs": []
    },
    {
      "cell_type": "code",
      "source": [
        "import sys\n",
        "import os\n",
        "import warnings\n",
        "from PIL import ImageFile, Image\n",
        "\n",
        "from img2vec_pytorch import Img2Vec\n",
        "from sklearn.metrics.pairwise import cosine_similarity\n",
        "\n",
        "warnings.filterwarnings(\"ignore\")\n",
        "ImageFile.LOAD_TRUNCATED_IMAGES = True"
      ],
      "metadata": {
        "id": "oSXDzMf4NSQt"
      },
      "execution_count": 8,
      "outputs": []
    },
    {
      "cell_type": "code",
      "source": [
        "GPU = False\n",
        "# existing images in database\n",
        "database_directory = 'database'\n",
        "# new image uploaded by user\n",
        "input_path = 'IMG_2441.jpeg'\n",
        "\n",
        "img2vec = Img2Vec(cuda=GPU)\n",
        "\n",
        "# create vector of newly uploaded image\n",
        "img_input = Image.open(input_path)\n",
        "vec_input = img2vec.get_vec(img_input, tensor=True)\n",
        "\n",
        "# iterate through database of existing images\n",
        "most_similar_image = None\n",
        "highest_similarity = -1\n",
        "\n",
        "for file in os.listdir(database_directory):\n",
        "    filename = os.fsdecode(file)\n",
        "    img_database = Image.open(os.path.join(database_directory, filename)).convert('RGB')\n",
        "    vec_database = img2vec.get_vec(img_database)\n",
        "\n",
        "    similarity_score = cosine_similarity(vec_input.reshape((1, -1)), vec_database.reshape((1, -1)))[0][0]\n",
        "\n",
        "    # Update the most similar image if the current similarity is higher\n",
        "    if similarity_score > highest_similarity:\n",
        "        highest_similarity = similarity_score\n",
        "        most_similar_image = filename\n",
        "\n",
        "print(f\"The most similar image to the user's is {most_similar_image} with a similarity score of {highest_similarity:.4f}\")"
      ],
      "metadata": {
        "colab": {
          "base_uri": "https://localhost:8080/"
        },
        "id": "Fs_ixOC_XEy-",
        "outputId": "caf30b71-d60e-4c63-c755-0561b46f17d7"
      },
      "execution_count": 12,
      "outputs": [
        {
          "output_type": "stream",
          "name": "stdout",
          "text": [
            "The most similar image to the target is IMG_2442.jpeg with a similarity score of 0.8914\n"
          ]
        }
      ]
    }
  ]
}