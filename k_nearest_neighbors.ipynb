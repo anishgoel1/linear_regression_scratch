{
  "nbformat": 4,
  "nbformat_minor": 0,
  "metadata": {
    "colab": {
      "provenance": []
    },
    "kernelspec": {
      "name": "python3",
      "display_name": "Python 3"
    },
    "language_info": {
      "name": "python"
    }
  },
  "cells": [
    {
      "cell_type": "code",
      "source": [
        "import numpy as np\n",
        "import matplotlib.pyplot as plt\n",
        "import random\n",
        "\n",
        "# generate data\n",
        "x_coords_blue = [3, 2, 5, 7, 1, 8, 9]\n",
        "y_coords_blue = [1, 5, 4, 8, 9, 4, 0]\n",
        "\n",
        "x_coords_red = [7, 9, 0, 1, 4, 6, 2]\n",
        "y_coords_red = [2, 6, 3, 8, 9, 4, 2]\n",
        "\n",
        "blue_data = [[3, 1], [2, 5], [5, 4], [7, 8], [1, 9], [8, 4], [9, 0]]\n",
        "red_data = [[7, 2], [9, 6], [0, 3], [1, 8], [4, 9], [6, 4], [2, 2]]\n",
        "\n",
        "# distance function\n",
        "def dist_calc(a, b):\n",
        "    return np.sqrt(np.sum((np.array(a)-np.array(b))**2))\n",
        "\n",
        "def classify(k, new_point, blue_data, red_data):\n",
        "    blue_dist, red_dist = [], []\n",
        "\n",
        "    for c_pair_b, c_pair_r in zip(blue_data, red_data):\n",
        "        blue_dist.append(dist_calc(c_pair_b, new_point))\n",
        "        red_dist.append(dist_calc(c_pair_r, new_point))\n",
        "\n",
        "    blue_dist.sort\n",
        "    red_dist.sort\n",
        "\n",
        "    results_conc = [(val, 'blue') for val in blue_dist] + [(val, 'red') for val in red_dist]\n",
        "    results_conc.sort(key=lambda x: x[0])\n",
        "    k_vals = results_conc[:k]\n",
        "\n",
        "\n",
        "    red_counter = 0\n",
        "    blue_counter = 0\n",
        "    for point in k_vals:\n",
        "        if point[1] == 'red':\n",
        "            red_counter += 1\n",
        "        elif point[1] == 'blue':\n",
        "            blue_counter += 1\n",
        "\n",
        "\n",
        "    return 'blue' if blue_counter > red_counter else 'red'\n",
        "\n",
        "new_point = np.array([8, 0])\n",
        "\n",
        "c_output = classify(1, new_point, blue_data, red_data)\n",
        "plt.scatter(x_coords_blue, y_coords_blue, color='blue')\n",
        "plt.scatter(x_coords_red, y_coords_red, color='red')\n",
        "plt.scatter(new_point[0], new_point[1], color=c_output, s=800, marker='*')\n",
        "plt.grid(True)"
      ],
      "metadata": {
        "colab": {
          "base_uri": "https://localhost:8080/",
          "height": 430
        },
        "id": "B6xZYz4qUF2_",
        "outputId": "42c0882a-36d3-4c12-a012-8309c320b29f"
      },
      "execution_count": null,
      "outputs": [
        {
          "output_type": "display_data",
          "data": {
            "text/plain": [
              "<Figure size 640x480 with 1 Axes>"
            ],
            "image/png": "[encoded data removed]"
          },
          "metadata": {}
        }
      ]
    }
  ]
}